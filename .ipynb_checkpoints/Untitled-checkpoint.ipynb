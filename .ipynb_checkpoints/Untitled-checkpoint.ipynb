{
 "cells": [
  {
   "cell_type": "code",
   "execution_count": 2,
   "id": "final-editor",
   "metadata": {},
   "outputs": [],
   "source": [
    "import sklearn\n",
    "import numpy as np"
   ]
  },
  {
   "cell_type": "code",
   "execution_count": 1,
   "id": "beginning-computer",
   "metadata": {},
   "outputs": [
    {
     "ename": "NameError",
     "evalue": "name 'np' is not defined",
     "output_type": "error",
     "traceback": [
      "\u001b[0;31m---------------------------------------------------------------------------\u001b[0m",
      "\u001b[0;31mNameError\u001b[0m                                 Traceback (most recent call last)",
      "\u001b[0;32m<ipython-input-1-85411057476a>\u001b[0m in \u001b[0;36m<module>\u001b[0;34m\u001b[0m\n\u001b[1;32m      1\u001b[0m \u001b[0;31m# data_dict = {\"boston\",\"iris\",\"diabetes\",\"digits\",\"linnerud\",\"wine\",\"\"}\u001b[0m\u001b[0;34m\u001b[0m\u001b[0;34m\u001b[0m\u001b[0;34m\u001b[0m\u001b[0m\n\u001b[1;32m      2\u001b[0m \u001b[0;31m# X,y = sklearn.datasets.fetch_california_housing(return_X_y=True)\u001b[0m\u001b[0;34m\u001b[0m\u001b[0;34m\u001b[0m\u001b[0;34m\u001b[0m\u001b[0m\n\u001b[0;32m----> 3\u001b[0;31m \u001b[0mnp\u001b[0m\u001b[0;34m.\u001b[0m\u001b[0msavetxt\u001b[0m\u001b[0;34m(\u001b[0m\u001b[0;34m\"./data/toy/X_test.csv\"\u001b[0m\u001b[0;34m,\u001b[0m \u001b[0mX\u001b[0m\u001b[0;34m,\u001b[0m \u001b[0mdelimiter\u001b[0m\u001b[0;34m=\u001b[0m\u001b[0;34m\",\"\u001b[0m\u001b[0;34m)\u001b[0m\u001b[0;34m\u001b[0m\u001b[0;34m\u001b[0m\u001b[0m\n\u001b[0m\u001b[1;32m      4\u001b[0m \u001b[0mnp\u001b[0m\u001b[0;34m.\u001b[0m\u001b[0msavetxt\u001b[0m\u001b[0;34m(\u001b[0m\u001b[0;34m\"./data/toy/y_test.csv\"\u001b[0m\u001b[0;34m,\u001b[0m \u001b[0my\u001b[0m\u001b[0;34m,\u001b[0m \u001b[0mdelimiter\u001b[0m\u001b[0;34m=\u001b[0m\u001b[0;34m\",\"\u001b[0m\u001b[0;34m)\u001b[0m\u001b[0;34m\u001b[0m\u001b[0;34m\u001b[0m\u001b[0m\n",
      "\u001b[0;31mNameError\u001b[0m: name 'np' is not defined"
     ]
    }
   ],
   "source": [
    "# data_dict = {\"boston\",\"iris\",\"diabetes\",\"digits\",\"linnerud\",\"wine\",\"\"}\n",
    "# X,y = sklearn.datasets.fetch_california_housing(return_X_y=True)\n",
    "# np.savetxt(\"./data/toy/X_test.csv\", X, delimiter=\",\")\n",
    "# np.savetxt(\"./data/toy/y_test.csv\", y, delimiter=\",\")"
   ]
  },
  {
   "cell_type": "code",
   "execution_count": 73,
   "id": "detailed-interim",
   "metadata": {},
   "outputs": [],
   "source": [
    "n = 1000\n",
    "p = 40\n",
    "beta = np.random.rand(p,1)*10+10\n",
    "X  = np.random.rand(n,p)\n",
    "y = X@beta"
   ]
  },
  {
   "cell_type": "code",
   "execution_count": 74,
   "id": "comprehensive-customer",
   "metadata": {},
   "outputs": [],
   "source": [
    "np.savetxt(\"./data/toy/X.csv\", X, delimiter=\",\")\n",
    "np.savetxt(\"./data/toy/y.csv\", y, delimiter=\",\")"
   ]
  },
  {
   "cell_type": "code",
   "execution_count": 102,
   "id": "silent-edward",
   "metadata": {},
   "outputs": [],
   "source": [
    "beta_c = np.loadtxt(\"./data/toy/beta_c1.csv\",delimiter=\",\")\n",
    "# y = np.loadtxt(\"./data/toy/y.csv\",delimiter=\",\")"
   ]
  },
  {
   "cell_type": "code",
   "execution_count": 31,
   "id": "hazardous-pottery",
   "metadata": {},
   "outputs": [],
   "source": [
    "# X = np.loadtxt(\"./data/toy/X.csv\",delimiter=\",\")\n",
    "# y = np.loadtxt(\"./data/toy/y.csv\",delimiter=\",\")"
   ]
  },
  {
   "cell_type": "code",
   "execution_count": 55,
   "id": "major-roots",
   "metadata": {},
   "outputs": [],
   "source": [
    "from sklearn.linear_model import Ridge"
   ]
  },
  {
   "cell_type": "code",
   "execution_count": 98,
   "id": "latest-swaziland",
   "metadata": {},
   "outputs": [],
   "source": [
    "lm = Ridge(alpha = 1,fit_intercept=True)\n",
    "lm = lm.fit(X,y.reshape(-1))"
   ]
  },
  {
   "cell_type": "code",
   "execution_count": 97,
   "id": "homeless-doubt",
   "metadata": {},
   "outputs": [
    {
     "data": {
      "text/plain": [
       "3.227647251319053"
      ]
     },
     "execution_count": 97,
     "metadata": {},
     "output_type": "execute_result"
    }
   ],
   "source": [
    "np.linalg.norm(np.array(list(lm.coef_)+[lm.intercept_])-beta_c)"
   ]
  },
  {
   "cell_type": "code",
   "execution_count": 104,
   "id": "excited-vision",
   "metadata": {},
   "outputs": [
    {
     "data": {
      "text/plain": [
       "7.510974478421209e-12"
      ]
     },
     "execution_count": 104,
     "metadata": {},
     "output_type": "execute_result"
    }
   ],
   "source": [
    "np.linalg.norm(np.array(list(lm.coef_))-beta_c)"
   ]
  },
  {
   "cell_type": "code",
   "execution_count": 103,
   "id": "subtle-concrete",
   "metadata": {},
   "outputs": [
    {
     "data": {
      "text/plain": [
       "40"
      ]
     },
     "execution_count": 103,
     "metadata": {},
     "output_type": "execute_result"
    }
   ],
   "source": [
    "len(beta_c)"
   ]
  },
  {
   "cell_type": "code",
   "execution_count": 34,
   "id": "educational-hartford",
   "metadata": {},
   "outputs": [],
   "source": [
    "! mkdir ./data/california_housing"
   ]
  },
  {
   "cell_type": "code",
   "execution_count": 37,
   "id": "binary-hydrogen",
   "metadata": {},
   "outputs": [],
   "source": [
    "import pandas as pd"
   ]
  },
  {
   "cell_type": "code",
   "execution_count": 69,
   "id": "extensive-upgrade",
   "metadata": {},
   "outputs": [],
   "source": [
    "X = np.random.rand(3,3)"
   ]
  },
  {
   "cell_type": "code",
   "execution_count": 71,
   "id": "confused-decrease",
   "metadata": {},
   "outputs": [],
   "source": [
    "y = np.random.rand(3)"
   ]
  },
  {
   "cell_type": "code",
   "execution_count": 72,
   "id": "defensive-network",
   "metadata": {},
   "outputs": [
    {
     "data": {
      "text/plain": [
       "array([0.20434047, 0.63915935, 0.22042017])"
      ]
     },
     "execution_count": 72,
     "metadata": {},
     "output_type": "execute_result"
    }
   ],
   "source": [
    "y"
   ]
  },
  {
   "cell_type": "code",
   "execution_count": null,
   "id": "available-senegal",
   "metadata": {},
   "outputs": [],
   "source": []
  }
 ],
 "metadata": {
  "kernelspec": {
   "display_name": "Python 3",
   "language": "python",
   "name": "python3"
  },
  "language_info": {
   "codemirror_mode": {
    "name": "ipython",
    "version": 3
   },
   "file_extension": ".py",
   "mimetype": "text/x-python",
   "name": "python",
   "nbconvert_exporter": "python",
   "pygments_lexer": "ipython3",
   "version": "3.9.2"
  }
 },
 "nbformat": 4,
 "nbformat_minor": 5
}
